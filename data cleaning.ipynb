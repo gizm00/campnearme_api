{
 "cells": [
  {
   "cell_type": "code",
   "execution_count": 1,
   "metadata": {
    "collapsed": true
   },
   "outputs": [],
   "source": [
    "import pandas as pd\n",
    "from sqlalchemy import create_engine\n",
    "import config"
   ]
  },
  {
   "cell_type": "code",
   "execution_count": 2,
   "metadata": {
    "collapsed": true
   },
   "outputs": [],
   "source": [
    "conn_str=\"postgresql+psycopg2://\" + config.DB_USER + \":\" + config.DB_PASS + \"@localhost:5432/\" + config.DB_NAME\n",
    "engine = create_engine(conn_str)"
   ]
  },
  {
   "cell_type": "code",
   "execution_count": 3,
   "metadata": {
    "collapsed": true
   },
   "outputs": [],
   "source": [
    "facdetails = pd.read_sql('select * from facilitydetails', engine)"
   ]
  },
  {
   "cell_type": "code",
   "execution_count": 4,
   "metadata": {
    "collapsed": true
   },
   "outputs": [],
   "source": [
    "facfulldetails = pd.read_sql('select * from facility_full_details',engine)"
   ]
  },
  {
   "cell_type": "code",
   "execution_count": 8,
   "metadata": {
    "collapsed": false
   },
   "outputs": [],
   "source": [
    "merged = pd.merge(facdetails, facfulldetails, on=['facilityid', 'facilityname'])"
   ]
  },
  {
   "cell_type": "code",
   "execution_count": 9,
   "metadata": {
    "collapsed": false
   },
   "outputs": [
    {
     "data": {
      "text/plain": [
       "(831, 55)"
      ]
     },
     "execution_count": 9,
     "metadata": {},
     "output_type": "execute_result"
    }
   ],
   "source": [
    "merged.shape"
   ]
  },
  {
   "cell_type": "code",
   "execution_count": 14,
   "metadata": {
    "collapsed": false
   },
   "outputs": [
    {
     "data": {
      "text/plain": [
       "Index(['facilityid', 'facilityadaaccess', 'facilitydescription',\n",
       "       'facilitydirections', 'facilityemail', 'facilitylatitude',\n",
       "       'facilitylongitude', 'facilitymapurl', 'facilityname', 'facilityphone',\n",
       "       'facilityreservationurl', 'facilitytypedescription',\n",
       "       'facilityusefeedescription', 'geojson_coordinates', 'geojson_type',\n",
       "       'keywords', 'lastupdateddate', 'legacyfacilityid', 'orgfacilityid',\n",
       "       'staylimit', 'reservable', 'reservation_link', 'ridbstate',\n",
       "       'facilityindex'],\n",
       "      dtype='object')"
      ]
     },
     "execution_count": 14,
     "metadata": {},
     "output_type": "execute_result"
    }
   ],
   "source": [
    "facdetails.columns"
   ]
  },
  {
   "cell_type": "code",
   "execution_count": 15,
   "metadata": {
    "collapsed": false
   },
   "outputs": [
    {
     "data": {
      "text/plain": [
       "Index(['level_0', 'facilityid', 'facilityadaaccess', 'facilitydescription',\n",
       "       'facilitydirections', 'facilityemail', 'facilitylatitude',\n",
       "       'facilitylongitude', 'facilitymapurl', 'facilityname', 'facilityphone',\n",
       "       'facilityreservationurl', 'facilitytypedescription',\n",
       "       'facilityusefeedescription', 'geojson_coordinates', 'geojson_type',\n",
       "       'keywords', 'lastupdateddate', 'legacyfacilityid', 'orgfacilityid',\n",
       "       'staylimit', 'reservable', 'ridbstate', 'drivehours', 'drivemiles',\n",
       "       'driveminutes', 'index', 'transitdays', 'transithours', 'transitmiles',\n",
       "       'transitminutes', 'cg_transit_avail', 'reservation_link'],\n",
       "      dtype='object')"
      ]
     },
     "execution_count": 15,
     "metadata": {},
     "output_type": "execute_result"
    }
   ],
   "source": [
    "facfulldetails.columns"
   ]
  },
  {
   "cell_type": "code",
   "execution_count": 13,
   "metadata": {
    "collapsed": false
   },
   "outputs": [
    {
     "data": {
      "text/plain": [
       "Index(['facilityid', 'facilityadaaccess_x', 'facilitydescription_x',\n",
       "       'facilitydirections_x', 'facilityemail_x', 'facilitylatitude_x',\n",
       "       'facilitylongitude_x', 'facilitymapurl_x', 'facilityname',\n",
       "       'facilityphone_x', 'facilityreservationurl_x',\n",
       "       'facilitytypedescription_x', 'facilityusefeedescription_x',\n",
       "       'geojson_coordinates_x', 'geojson_type_x', 'keywords_x',\n",
       "       'lastupdateddate_x', 'legacyfacilityid_x', 'orgfacilityid_x',\n",
       "       'staylimit_x', 'reservable_x', 'reservation_link_x', 'ridbstate_x',\n",
       "       'facilityindex', 'level_0', 'facilityadaaccess_y',\n",
       "       'facilitydescription_y', 'facilitydirections_y', 'facilityemail_y',\n",
       "       'facilitylatitude_y', 'facilitylongitude_y', 'facilitymapurl_y',\n",
       "       'facilityphone_y', 'facilityreservationurl_y',\n",
       "       'facilitytypedescription_y', 'facilityusefeedescription_y',\n",
       "       'geojson_coordinates_y', 'geojson_type_y', 'keywords_y',\n",
       "       'lastupdateddate_y', 'legacyfacilityid_y', 'orgfacilityid_y',\n",
       "       'staylimit_y', 'reservable_y', 'ridbstate_y', 'drivehours',\n",
       "       'drivemiles', 'driveminutes', 'index', 'transitdays', 'transithours',\n",
       "       'transitmiles', 'transitminutes', 'cg_transit_avail',\n",
       "       'reservation_link_y'],\n",
       "      dtype='object')"
      ]
     },
     "execution_count": 13,
     "metadata": {},
     "output_type": "execute_result"
    }
   ],
   "source": [
    "merged.columns"
   ]
  },
  {
   "cell_type": "code",
   "execution_count": null,
   "metadata": {
    "collapsed": true
   },
   "outputs": [],
   "source": []
  }
 ],
 "metadata": {
  "kernelspec": {
   "display_name": "Python 3",
   "language": "python",
   "name": "python3"
  },
  "language_info": {
   "codemirror_mode": {
    "name": "ipython",
    "version": 3
   },
   "file_extension": ".py",
   "mimetype": "text/x-python",
   "name": "python",
   "nbconvert_exporter": "python",
   "pygments_lexer": "ipython3",
   "version": "3.5.0"
  }
 },
 "nbformat": 4,
 "nbformat_minor": 1
}
